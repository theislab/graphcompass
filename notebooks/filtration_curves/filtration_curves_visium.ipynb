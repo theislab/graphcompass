{
 "cells": [
  {
   "cell_type": "markdown",
   "id": "1bb450a4",
   "metadata": {},
   "source": [
    "### 10x Genomics Visium dataset to study myocardial tissue reorganization following ischemic injury\n",
    "\n",
    "#### Regions:\n",
    "1. Control (N=4)\n",
    "2. Remote Zone (RZ) (N=5)\n",
    "3. Ischaemic Zone (IZ) (N=8)\n",
    "\n",
    "\n",
    "The 10x Genomics Visium heart data from Kuppe et al. is available in the Zenodo data repository: https://zenodo.org/record/6578047."
   ]
  },
  {
   "cell_type": "code",
   "execution_count": 1,
   "id": "36659452",
   "metadata": {},
   "outputs": [],
   "source": [
    "import os\n",
    "import numpy as np\n",
    "import scanpy as sc"
   ]
  },
  {
   "cell_type": "code",
   "execution_count": 2,
   "id": "eac199d2",
   "metadata": {},
   "outputs": [],
   "source": [
    "import graphcompass as gc"
   ]
  },
  {
   "cell_type": "code",
   "execution_count": 3,
   "id": "894854c5",
   "metadata": {},
   "outputs": [],
   "source": [
    "import warnings\n",
    "warnings.simplefilter(action='ignore', category=FutureWarning)"
   ]
  },
  {
   "cell_type": "markdown",
   "id": "f6b6c0fc",
   "metadata": {},
   "source": [
    "## Load data"
   ]
  },
  {
   "cell_type": "code",
   "execution_count": 4,
   "id": "1865c818",
   "metadata": {},
   "outputs": [],
   "source": [
    "# change as needed\n",
    "WD = \"/data/visium_heart\""
   ]
  },
  {
   "cell_type": "code",
   "execution_count": 5,
   "id": "fa88cdba",
   "metadata": {},
   "outputs": [
    {
     "name": "stderr",
     "output_type": "stream",
     "text": [
      "/dss/dsshome1/06/di93vel/.conda/envs/graph_venv/lib/python3.9/site-packages/anndata/_core/anndata.py:1906: UserWarning: Observation names are not unique. To make them unique, call `.obs_names_make_unique`.\n",
      "  utils.warn_names_duplicates(\"obs\")\n"
     ]
    },
    {
     "data": {
      "text/plain": [
       "AnnData object with n_obs × n_vars = 88456 × 11669\n",
       "    obs: 'n_counts', 'n_genes', 'percent.mt', 'Adipocyte', 'Cardiomyocyte', 'Endothelial', 'Fibroblast', 'Lymphoid', 'Mast', 'Myeloid', 'Neuronal', 'Pericyte', 'Cycling.cells', 'vSMCs', 'cell_type_original', 'assay_ontology_term_id', 'cell_type_ontology_term_id', 'development_stage_ontology_term_id', 'disease_ontology_term_id', 'ethnicity_ontology_term_id', 'is_primary_data', 'organism_ontology_term_id', 'sex_ontology_term_id', 'tissue_ontology_term_id', 'cell_type', 'assay', 'disease', 'organism', 'sex', 'tissue', 'ethnicity', 'development_stage', 'sample'\n",
       "    var: 'feature_biotype', 'feature_is_filtered', 'feature_name', 'feature_reference'\n",
       "    obsm: 'X_pca', 'X_spatial', 'X_umap', 'spatial'"
      ]
     },
     "execution_count": 5,
     "metadata": {},
     "output_type": "execute_result"
    }
   ],
   "source": [
    "adata = sc.read_h5ad(os.path.join(WD, \"all.h5ad\"))\n",
    "adata.obs_names_make_unique()\n",
    "adata"
   ]
  },
  {
   "cell_type": "markdown",
   "id": "93acacc5",
   "metadata": {},
   "source": [
    "## Inspect data"
   ]
  },
  {
   "cell_type": "code",
   "execution_count": 6,
   "id": "48be0e2e",
   "metadata": {},
   "outputs": [
    {
     "name": "stdout",
     "output_type": "stream",
     "text": [
      "8.193758\n",
      "0.0\n"
     ]
    }
   ],
   "source": [
    "print(np.max(adata.X))\n",
    "print(np.min(adata.X))"
   ]
  },
  {
   "cell_type": "code",
   "execution_count": 7,
   "id": "7d372b11",
   "metadata": {},
   "outputs": [
    {
     "data": {
      "text/plain": [
       "disease\n",
       "myocardial infarction    76757\n",
       "normal                   11699\n",
       "Name: count, dtype: int64"
      ]
     },
     "execution_count": 7,
     "metadata": {},
     "output_type": "execute_result"
    }
   ],
   "source": [
    "adata.obs['disease'].value_counts()"
   ]
  },
  {
   "cell_type": "code",
   "execution_count": 8,
   "id": "e63f901e",
   "metadata": {},
   "outputs": [
    {
     "data": {
      "text/plain": [
       "sex\n",
       "female    62451\n",
       "male      26005\n",
       "Name: count, dtype: int64"
      ]
     },
     "execution_count": 8,
     "metadata": {},
     "output_type": "execute_result"
    }
   ],
   "source": [
    "adata.obs['sex'].value_counts()"
   ]
  },
  {
   "cell_type": "code",
   "execution_count": 9,
   "id": "e8af9464",
   "metadata": {},
   "outputs": [
    {
     "data": {
      "text/plain": [
       "sample\n",
       "RZ_BZ_P3         4659\n",
       "control_P1       4269\n",
       "FZ_GT_P4         4253\n",
       "IZ_BZ_P2         4203\n",
       "GT_IZ_P9         4113\n",
       "GT_IZ_P9_rep2    4113\n",
       "IZ_P3            3771\n",
       "IZ_P10           3646\n",
       "RZ_P9            3626\n",
       "GT_IZ_P15        3572\n",
       "RZ_GT_P2         3538\n",
       "RZ_P6            3484\n",
       "RZ_BZ_P12        3392\n",
       "RZ_BZ_P2         3373\n",
       "FZ_P14           3175\n",
       "FZ_GT_P19        3100\n",
       "IZ_P15           3083\n",
       "RZ_FZ_P5         3082\n",
       "RZ_P3            2994\n",
       "control_P7       2931\n",
       "IZ_P16           2713\n",
       "FZ_P18           2551\n",
       "control_P8       2456\n",
       "FZ_P20           2410\n",
       "control_P17      2043\n",
       "RZ_P11           2016\n",
       "GT_IZ_P13        1890\n",
       "Name: count, dtype: int64"
      ]
     },
     "execution_count": 9,
     "metadata": {},
     "output_type": "execute_result"
    }
   ],
   "source": [
    "adata.obs['sample'].value_counts()"
   ]
  },
  {
   "cell_type": "code",
   "execution_count": 10,
   "id": "0e6c66ae",
   "metadata": {},
   "outputs": [
    {
     "data": {
      "text/plain": [
       "Index(['Adipocyte', 'Cardiomyocyte', 'Cycling.cells', 'Endothelial',\n",
       "       'Fibroblast', 'Lymphoid', 'Mast', 'Myeloid', 'Neuronal', 'Pericyte',\n",
       "       'vSMCs'],\n",
       "      dtype='object')"
      ]
     },
     "execution_count": 10,
     "metadata": {},
     "output_type": "execute_result"
    }
   ],
   "source": [
    "adata.obs['cell_type_original'].cat.categories"
   ]
  },
  {
   "cell_type": "markdown",
   "id": "ccdd0ffa",
   "metadata": {},
   "source": [
    "## Create graph from spatial coordinates, determine threshold values, and create filtration curves"
   ]
  },
  {
   "cell_type": "code",
   "execution_count": 11,
   "id": "9de2040d",
   "metadata": {},
   "outputs": [],
   "source": [
    "# Column in anndata.AnnData.obs which stores sample/batch information\n",
    "library_key = 'library_id'\n",
    "# Column in anndata.AnnData.obs which stores cell type information\n",
    "cell_type_key = 'cell_type_original'\n",
    "# Column in anndata.AnnData.obs which stores condition information\n",
    "condition_key = 'condition'"
   ]
  },
  {
   "cell_type": "code",
   "execution_count": 12,
   "id": "dedc3113",
   "metadata": {},
   "outputs": [
    {
     "data": {
      "text/plain": [
       "condition\n",
       "RZ         30164\n",
       "IZ         17416\n",
       "FZ         15489\n",
       "GT         13688\n",
       "control    11699\n",
       "Name: count, dtype: int64"
      ]
     },
     "execution_count": 12,
     "metadata": {},
     "output_type": "execute_result"
    }
   ],
   "source": [
    "adata.obs[library_key] = adata.obs['sample'].copy()\n",
    "\n",
    "adata.obs[condition_key] = adata.obs[library_key].str.split('_').str[0]\n",
    "adata.obs[condition_key].value_counts()"
   ]
  },
  {
   "cell_type": "code",
   "execution_count": 13,
   "id": "0a272e1c",
   "metadata": {},
   "outputs": [],
   "source": [
    "# We're interested in comparing the spatial organization of the following samples:\n",
    "patients = ['control_P1', 'control_P7', 'control_P8', 'control_P17', 'RZ_P3', 'RZ_P3', 'RZ_P9', 'RZ_P11', 'IZ_P3', 'IZ_P10', 'IZ_P15', 'IZ_P16']"
   ]
  },
  {
   "cell_type": "code",
   "execution_count": 14,
   "id": "d69f3547",
   "metadata": {},
   "outputs": [],
   "source": [
    "# Visium data is laid out in a grid. Each spot has six direct neighbors.\n",
    "kwargs_spatial_neighbors = {\n",
    "    \"coord_type\": \"grid\",\n",
    "    \"n_neighs\": 6,\n",
    "}"
   ]
  },
  {
   "cell_type": "code",
   "execution_count": 15,
   "id": "009695f1",
   "metadata": {},
   "outputs": [
    {
     "name": "stdout",
     "output_type": "stream",
     "text": [
      "Computing spatial graph...\n"
     ]
    },
    {
     "name": "stderr",
     "output_type": "stream",
     "text": [
      "100%|██████████| 1000/1000 [00:00<00:00, 2117.36/s]\n",
      "/dss/dsshome1/06/di93vel/.conda/envs/graph_venv/lib/python3.9/site-packages/squidpy/gr/_nhood.py:188: RuntimeWarning: invalid value encountered in divide\n",
      "  zscore = (count - perms.mean(axis=0)) / perms.std(axis=0)\n",
      "100%|██████████| 1000/1000 [00:00<00:00, 2996.81/s]\n",
      "100%|██████████| 1000/1000 [00:00<00:00, 2369.83/s]\n",
      "100%|██████████| 1000/1000 [00:00<00:00, 2856.85/s]\n",
      "/dss/dsshome1/06/di93vel/.conda/envs/graph_venv/lib/python3.9/site-packages/squidpy/gr/_nhood.py:188: RuntimeWarning: invalid value encountered in divide\n",
      "  zscore = (count - perms.mean(axis=0)) / perms.std(axis=0)\n",
      "100%|██████████| 1000/1000 [00:00<00:00, 1801.86/s]\n",
      "/dss/dsshome1/06/di93vel/.conda/envs/graph_venv/lib/python3.9/site-packages/squidpy/gr/_nhood.py:188: RuntimeWarning: invalid value encountered in divide\n",
      "  zscore = (count - perms.mean(axis=0)) / perms.std(axis=0)\n",
      "100%|██████████| 1000/1000 [00:00<00:00, 1885.09/s]\n",
      "/dss/dsshome1/06/di93vel/.conda/envs/graph_venv/lib/python3.9/site-packages/squidpy/gr/_nhood.py:188: RuntimeWarning: invalid value encountered in divide\n",
      "  zscore = (count - perms.mean(axis=0)) / perms.std(axis=0)\n",
      "100%|██████████| 1000/1000 [00:00<00:00, 2428.01/s]\n",
      "/dss/dsshome1/06/di93vel/.conda/envs/graph_venv/lib/python3.9/site-packages/squidpy/gr/_nhood.py:188: RuntimeWarning: invalid value encountered in divide\n",
      "  zscore = (count - perms.mean(axis=0)) / perms.std(axis=0)\n",
      "100%|██████████| 1000/1000 [00:00<00:00, 2781.97/s]\n",
      "/dss/dsshome1/06/di93vel/.conda/envs/graph_venv/lib/python3.9/site-packages/squidpy/gr/_nhood.py:188: RuntimeWarning: invalid value encountered in divide\n",
      "  zscore = (count - perms.mean(axis=0)) / perms.std(axis=0)\n",
      "100%|██████████| 1000/1000 [00:00<00:00, 1917.61/s]\n",
      "100%|██████████| 1000/1000 [00:00<00:00, 3123.52/s]\n",
      "100%|██████████| 1000/1000 [00:00<00:00, 2414.20/s]\n",
      "/dss/dsshome1/06/di93vel/.conda/envs/graph_venv/lib/python3.9/site-packages/squidpy/gr/_nhood.py:188: RuntimeWarning: invalid value encountered in divide\n",
      "  zscore = (count - perms.mean(axis=0)) / perms.std(axis=0)\n",
      "100%|██████████| 1000/1000 [00:00<00:00, 1903.52/s]\n",
      "100%|██████████| 1000/1000 [00:00<00:00, 1806.90/s]\n",
      "100%|██████████| 1000/1000 [00:00<00:00, 2155.23/s]\n",
      "/dss/dsshome1/06/di93vel/.conda/envs/graph_venv/lib/python3.9/site-packages/squidpy/gr/_nhood.py:188: RuntimeWarning: invalid value encountered in divide\n",
      "  zscore = (count - perms.mean(axis=0)) / perms.std(axis=0)\n",
      "100%|██████████| 1000/1000 [00:00<00:00, 1506.64/s]\n",
      "/dss/dsshome1/06/di93vel/.conda/envs/graph_venv/lib/python3.9/site-packages/squidpy/gr/_nhood.py:188: RuntimeWarning: invalid value encountered in divide\n",
      "  zscore = (count - perms.mean(axis=0)) / perms.std(axis=0)\n",
      "100%|██████████| 1000/1000 [00:00<00:00, 2185.63/s]\n",
      "/dss/dsshome1/06/di93vel/.conda/envs/graph_venv/lib/python3.9/site-packages/squidpy/gr/_nhood.py:188: RuntimeWarning: invalid value encountered in divide\n",
      "  zscore = (count - perms.mean(axis=0)) / perms.std(axis=0)\n",
      "100%|██████████| 1000/1000 [00:00<00:00, 2606.51/s]\n",
      "/dss/dsshome1/06/di93vel/.conda/envs/graph_venv/lib/python3.9/site-packages/squidpy/gr/_nhood.py:188: RuntimeWarning: invalid value encountered in divide\n",
      "  zscore = (count - perms.mean(axis=0)) / perms.std(axis=0)\n",
      "100%|██████████| 1000/1000 [00:00<00:00, 2174.37/s]\n",
      "100%|██████████| 1000/1000 [00:00<00:00, 2316.37/s]\n",
      "/dss/dsshome1/06/di93vel/.conda/envs/graph_venv/lib/python3.9/site-packages/squidpy/gr/_nhood.py:188: RuntimeWarning: invalid value encountered in divide\n",
      "  zscore = (count - perms.mean(axis=0)) / perms.std(axis=0)\n",
      "100%|██████████| 1000/1000 [00:00<00:00, 2425.65/s]\n",
      "/dss/dsshome1/06/di93vel/.conda/envs/graph_venv/lib/python3.9/site-packages/squidpy/gr/_nhood.py:188: RuntimeWarning: invalid value encountered in divide\n",
      "  zscore = (count - perms.mean(axis=0)) / perms.std(axis=0)\n",
      "100%|██████████| 1000/1000 [00:00<00:00, 1750.05/s]\n",
      "/dss/dsshome1/06/di93vel/.conda/envs/graph_venv/lib/python3.9/site-packages/squidpy/gr/_nhood.py:188: RuntimeWarning: invalid value encountered in divide\n",
      "  zscore = (count - perms.mean(axis=0)) / perms.std(axis=0)\n",
      "100%|██████████| 1000/1000 [00:00<00:00, 2414.41/s]\n",
      "/dss/dsshome1/06/di93vel/.conda/envs/graph_venv/lib/python3.9/site-packages/squidpy/gr/_nhood.py:188: RuntimeWarning: invalid value encountered in divide\n",
      "  zscore = (count - perms.mean(axis=0)) / perms.std(axis=0)\n",
      "100%|██████████| 1000/1000 [00:00<00:00, 2129.41/s]\n",
      "100%|██████████| 1000/1000 [00:00<00:00, 2642.42/s]\n",
      "100%|██████████| 1000/1000 [00:00<00:00, 1837.10/s]\n",
      "/dss/dsshome1/06/di93vel/.conda/envs/graph_venv/lib/python3.9/site-packages/squidpy/gr/_nhood.py:188: RuntimeWarning: invalid value encountered in divide\n",
      "  zscore = (count - perms.mean(axis=0)) / perms.std(axis=0)\n",
      "100%|██████████| 1000/1000 [00:00<00:00, 2444.09/s]\n",
      "100%|██████████| 1000/1000 [00:00<00:00, 2046.86/s]\n",
      "/dss/dsshome1/06/di93vel/.conda/envs/graph_venv/lib/python3.9/site-packages/scipy/sparse/_index.py:103: SparseEfficiencyWarning: Changing the sparsity structure of a csr_matrix is expensive. lil_matrix is more efficient.\n",
      "  self._set_intXint(row, col, x.flat[0])\n"
     ]
    },
    {
     "name": "stdout",
     "output_type": "stream",
     "text": [
      "Computing edge weights...\n"
     ]
    },
    {
     "name": "stderr",
     "output_type": "stream",
     "text": [
      "100%|██████████| 12/12 [00:02<00:00,  4.48it/s]\n"
     ]
    },
    {
     "name": "stdout",
     "output_type": "stream",
     "text": [
      "Computing edge weight threshold values...\n",
      "Creating filtration curves...\n"
     ]
    },
    {
     "name": "stderr",
     "output_type": "stream",
     "text": [
      "100%|██████████| 12/12 [00:00<00:00, 14.78it/s]\n",
      "100%|██████████| 12/12 [00:00<00:00, 220.70it/s]"
     ]
    },
    {
     "name": "stdout",
     "output_type": "stream",
     "text": [
      "Done!\n"
     ]
    },
    {
     "name": "stderr",
     "output_type": "stream",
     "text": [
      "\n"
     ]
    }
   ],
   "source": [
    "gc.tl._filtration_curves.compare_conditions(\n",
    "    adata,\n",
    "    library_key=library_key,\n",
    "    cluster_key=cell_type_key,\n",
    "    condition_key=condition_key,\n",
    "    attribute=\"weight\",\n",
    "    sample_ids=patients,\n",
    "    compute_spatial_graphs=True,\n",
    "    kwargs_spatial_neighbors=kwargs_spatial_neighbors,\n",
    "    copy=False,\n",
    ")"
   ]
  },
  {
   "cell_type": "code",
   "execution_count": 16,
   "id": "540e0c6d",
   "metadata": {},
   "outputs": [
    {
     "data": {
      "text/plain": [
       "[  graph_label     weight  Adipocyte  Cardiomyocyte  Cycling.cells  \\\n",
       " 0     control  55.609838        0.0           18.0            0.0   \n",
       " 1     control  59.580556        0.0           48.0            0.0   \n",
       " 2     control  65.566389        0.0          517.0            1.0   \n",
       " 3     control  69.159016        0.0         2213.0            2.0   \n",
       " 4     control  71.275101        0.0         3228.0            2.0   \n",
       " 5     control  73.177171        0.0         3785.0            3.0   \n",
       " 6     control  75.441513        0.0         4018.0            4.0   \n",
       " 7     control  78.108240        0.0         4052.0            4.0   \n",
       " 8     control  80.418532        0.0         4053.0            4.0   \n",
       " \n",
       "    Endothelial  Fibroblast  Lymphoid  Mast  Myeloid  Neuronal  Pericyte  vSMCs  \n",
       " 0          0.0         0.0       0.0   0.0      0.0       0.0       0.0    0.0  \n",
       " 1          0.0         1.0       0.0   0.0      0.0       0.0       0.0    1.0  \n",
       " 2          1.0        14.0       0.0   0.0      1.0       0.0       0.0    8.0  \n",
       " 3          5.0        54.0       0.0   1.0      4.0       0.0       0.0   26.0  \n",
       " 4          9.0        84.0       0.0   1.0     16.0       0.0       1.0   38.0  \n",
       " 5         11.0       107.0       0.0   2.0     22.0       0.0       1.0   46.0  \n",
       " 6         13.0       117.0       0.0   2.0     25.0       0.0       1.0   50.0  \n",
       " 7         15.0       118.0       0.0   2.0     26.0       0.0       1.0   50.0  \n",
       " 8         15.0       118.0       0.0   2.0     26.0       0.0       1.0   50.0  ,\n",
       "   graph_label     weight  Adipocyte  Cardiomyocyte  Cycling.cells  \\\n",
       " 0     control  55.609838        0.0            0.0            0.0   \n",
       " 1     control  59.580556        0.0            1.0            0.0   \n",
       " 2     control  65.566389        0.0           42.0            1.0   \n",
       " 3     control  69.159016        0.0          370.0            1.0   \n",
       " 4     control  71.275101        0.0          883.0            2.0   \n",
       " 5     control  73.177171        0.0         1405.0            4.0   \n",
       " 6     control  75.441513        0.0         1884.0            5.0   \n",
       " 7     control  78.108240        0.0         2078.0            5.0   \n",
       " 8     control  80.418532        0.0         2099.0            5.0   \n",
       " 9     control  86.801750        0.0         2099.0            5.0   \n",
       " \n",
       "    Endothelial  Fibroblast  Lymphoid  Mast  Myeloid  Neuronal  Pericyte  vSMCs  \n",
       " 0          0.0         0.0       0.0   0.0      0.0       0.0       0.0   14.0  \n",
       " 1          0.0         4.0       0.0   0.0      0.0       0.0       0.0   25.0  \n",
       " 2          4.0        20.0       0.0   1.0      8.0       0.0       1.0   47.0  \n",
       " 3         33.0        78.0       0.0   6.0     29.0       3.0       2.0   63.0  \n",
       " 4         81.0       129.0       2.0   6.0     55.0       3.0       5.0   75.0  \n",
       " 5        135.0       180.0       2.0   6.0     82.0       5.0       7.0   81.0  \n",
       " 6        194.0       246.0       3.0   7.0    114.0       8.0      13.0   85.0  \n",
       " 7        226.0       297.0       4.0   8.0    144.0       9.0      14.0   94.0  \n",
       " 8        230.0       310.0       4.0   8.0    154.0      10.0      14.0   96.0  \n",
       " 9        230.0       310.0       4.0   8.0    155.0      10.0      14.0   96.0  ,\n",
       "   graph_label     weight  Adipocyte  Cardiomyocyte  Cycling.cells  \\\n",
       " 0     control  55.609838        0.0            0.0            0.0   \n",
       " 1     control  59.580556        0.0            0.0            0.0   \n",
       " 2     control  65.566389        0.0          142.0            0.0   \n",
       " 3     control  69.159016        0.0          834.0            0.0   \n",
       " 4     control  71.275101        0.0         1354.0            0.0   \n",
       " 5     control  73.177171        0.0         1720.0            2.0   \n",
       " 6     control  75.441513        0.0         1875.0            3.0   \n",
       " 7     control  78.108240        0.0         1912.0            3.0   \n",
       " 8     control  80.418532        0.0         1916.0            3.0   \n",
       " 9     control  86.801750        0.0         1916.0            3.0   \n",
       " \n",
       "    Endothelial  Fibroblast  Lymphoid  Mast  Myeloid  Neuronal  Pericyte  vSMCs  \n",
       " 0          0.0         0.0       0.0   0.0      0.0       0.0       0.0    0.0  \n",
       " 1          0.0         0.0       0.0   0.0      0.0       0.0       0.0    0.0  \n",
       " 2          4.0        13.0       0.0   0.0      1.0       0.0       0.0    4.0  \n",
       " 3         22.0        63.0       1.0   0.0      6.0       1.0       0.0   10.0  \n",
       " 4         59.0       149.0       2.0   2.0     12.0       1.0       0.0   20.0  \n",
       " 5         93.0       208.0       2.0   2.0     19.0       1.0       0.0   29.0  \n",
       " 6        135.0       281.0       2.0   2.0     22.0       1.0       0.0   33.0  \n",
       " 7        148.0       307.0       2.0   2.0     26.0       1.0       1.0   39.0  \n",
       " 8        149.0       313.0       2.0   2.0     26.0       1.0       1.0   39.0  \n",
       " 9        149.0       315.0       2.0   2.0     26.0       1.0       1.0   40.0  ,\n",
       "   graph_label     weight  Adipocyte  Cardiomyocyte  Cycling.cells  \\\n",
       " 0     control  55.609838        0.0            0.0            0.0   \n",
       " 1     control  59.580556        0.0            7.0            0.0   \n",
       " 2     control  65.566389        0.0          150.0            0.0   \n",
       " 3     control  69.159016        0.0          695.0            1.0   \n",
       " 4     control  71.275101        0.0         1348.0            1.0   \n",
       " 5     control  73.177171        0.0         1687.0            1.0   \n",
       " 6     control  75.441513        0.0         1798.0            3.0   \n",
       " 7     control  78.108240        0.0         1810.0            3.0   \n",
       " 8     control  80.418532        0.0         1810.0            3.0   \n",
       " \n",
       "    Endothelial  Fibroblast  Lymphoid  Mast  Myeloid  Neuronal  Pericyte  vSMCs  \n",
       " 0          0.0         0.0       0.0   0.0      0.0       0.0       0.0    0.0  \n",
       " 1          0.0         0.0       0.0   0.0      0.0       0.0       0.0    0.0  \n",
       " 2          1.0         1.0       0.0   0.0      0.0       0.0       0.0    0.0  \n",
       " 3         11.0        10.0       0.0   0.0      2.0       0.0       0.0    1.0  \n",
       " 4         32.0        26.0       0.0   0.0     10.0       0.0       0.0    2.0  \n",
       " 5         55.0        46.0       0.0   0.0     19.0       0.0       0.0    5.0  \n",
       " 6         85.0        72.0       0.0   0.0     35.0       0.0       0.0   14.0  \n",
       " 7         93.0        75.0       0.0   0.0     39.0       0.0       0.0   18.0  \n",
       " 8         94.0        78.0       0.0   0.0     40.0       0.0       0.0   18.0  ,\n",
       "   graph_label     weight  Adipocyte  Cardiomyocyte  Cycling.cells  \\\n",
       " 0          RZ  55.609838        1.0         1006.0           12.0   \n",
       " 1          RZ  59.580556        1.0         1461.0           21.0   \n",
       " 2          RZ  65.566389        6.0         1539.0           28.0   \n",
       " 3          RZ  69.159016        6.0         1545.0           30.0   \n",
       " 4          RZ  71.275101        6.0         1548.0           30.0   \n",
       " 5          RZ  73.177171        6.0         1550.0           30.0   \n",
       " 6          RZ  75.441513        6.0         1551.0           30.0   \n",
       " 7          RZ  78.108240        6.0         1552.0           30.0   \n",
       " 8          RZ  80.418532        6.0         1552.0           30.0   \n",
       " 9          RZ  86.801750        6.0         1552.0           30.0   \n",
       " \n",
       "    Endothelial  Fibroblast  Lymphoid  Mast  Myeloid  Neuronal  Pericyte  vSMCs  \n",
       " 0         66.0       599.0       3.0   1.0     25.0       0.0       0.0   32.0  \n",
       " 1        121.0       981.0       5.0   1.0     37.0       0.0       0.0   38.0  \n",
       " 2        144.0      1132.0       7.0   1.0     40.0       0.0       1.0   42.0  \n",
       " 3        149.0      1149.0       7.0   1.0     40.0       0.0       1.0   42.0  \n",
       " 4        150.0      1154.0       7.0   1.0     41.0       0.0       1.0   42.0  \n",
       " 5        153.0      1154.0       7.0   1.0     41.0       0.0       1.0   42.0  \n",
       " 6        153.0      1156.0       7.0   1.0     41.0       0.0       1.0   42.0  \n",
       " 7        153.0      1157.0       7.0   1.0     41.0       0.0       1.0   42.0  \n",
       " 8        153.0      1157.0       7.0   1.0     41.0       0.0       1.0   42.0  \n",
       " 9        153.0      1157.0       7.0   1.0     41.0       0.0       1.0   42.0  ,\n",
       "   graph_label     weight  Adipocyte  Cardiomyocyte  Cycling.cells  \\\n",
       " 0          RZ  55.609838        1.0         1006.0           12.0   \n",
       " 1          RZ  59.580556        1.0         1461.0           21.0   \n",
       " 2          RZ  65.566389        6.0         1539.0           28.0   \n",
       " 3          RZ  69.159016        6.0         1545.0           30.0   \n",
       " 4          RZ  71.275101        6.0         1548.0           30.0   \n",
       " 5          RZ  73.177171        6.0         1550.0           30.0   \n",
       " 6          RZ  75.441513        6.0         1551.0           30.0   \n",
       " 7          RZ  78.108240        6.0         1552.0           30.0   \n",
       " 8          RZ  80.418532        6.0         1552.0           30.0   \n",
       " 9          RZ  86.801750        6.0         1552.0           30.0   \n",
       " \n",
       "    Endothelial  Fibroblast  Lymphoid  Mast  Myeloid  Neuronal  Pericyte  vSMCs  \n",
       " 0         66.0       599.0       3.0   1.0     25.0       0.0       0.0   32.0  \n",
       " 1        121.0       981.0       5.0   1.0     37.0       0.0       0.0   38.0  \n",
       " 2        144.0      1132.0       7.0   1.0     40.0       0.0       1.0   42.0  \n",
       " 3        149.0      1149.0       7.0   1.0     40.0       0.0       1.0   42.0  \n",
       " 4        150.0      1154.0       7.0   1.0     41.0       0.0       1.0   42.0  \n",
       " 5        153.0      1154.0       7.0   1.0     41.0       0.0       1.0   42.0  \n",
       " 6        153.0      1156.0       7.0   1.0     41.0       0.0       1.0   42.0  \n",
       " 7        153.0      1157.0       7.0   1.0     41.0       0.0       1.0   42.0  \n",
       " 8        153.0      1157.0       7.0   1.0     41.0       0.0       1.0   42.0  \n",
       " 9        153.0      1157.0       7.0   1.0     41.0       0.0       1.0   42.0  ,\n",
       "   graph_label     weight  Adipocyte  Cardiomyocyte  Cycling.cells  \\\n",
       " 0          RZ  55.609838        0.0            0.0            0.0   \n",
       " 1          RZ  59.580556        0.0            0.0            0.0   \n",
       " 2          RZ  65.566389        0.0            3.0            0.0   \n",
       " 3          RZ  69.159016        0.0            9.0            1.0   \n",
       " 4          RZ  71.275101        0.0           29.0            2.0   \n",
       " 5          RZ  73.177171        0.0           92.0            2.0   \n",
       " 6          RZ  75.441513        0.0          316.0            3.0   \n",
       " 7          RZ  78.108240        0.0          991.0            7.0   \n",
       " 8          RZ  80.418532        0.0         1573.0            8.0   \n",
       " 9          RZ  86.801750        0.0         1843.0            8.0   \n",
       " \n",
       "    Endothelial  Fibroblast  Lymphoid  Mast  Myeloid  Neuronal  Pericyte  vSMCs  \n",
       " 0          0.0         0.0       0.0   0.0      0.0       0.0       0.0    0.0  \n",
       " 1          0.0         0.0       0.0   0.0      0.0       0.0       0.0    0.0  \n",
       " 2          0.0         0.0       0.0   0.0      2.0       0.0       0.0    5.0  \n",
       " 3          3.0         1.0       0.0   0.0      4.0       0.0       0.0    6.0  \n",
       " 4         17.0        12.0       0.0   0.0     10.0       0.0       4.0    9.0  \n",
       " 5         49.0        46.0       0.0   2.0     37.0       2.0       4.0   18.0  \n",
       " 6        118.0       141.0       0.0   4.0    100.0       2.0      15.0   28.0  \n",
       " 7        320.0       325.0       0.0   5.0    216.0       3.0      24.0   42.0  \n",
       " 8        567.0       552.0       2.0   7.0    308.0       4.0      44.0   56.0  \n",
       " 9        658.0       650.0       3.0  10.0    334.0       4.0      55.0   60.0  ,\n",
       "   graph_label     weight  Adipocyte  Cardiomyocyte  Cycling.cells  \\\n",
       " 0          RZ  55.609838        0.0            0.0            0.0   \n",
       " 1          RZ  59.580556        0.0            0.0            0.0   \n",
       " 2          RZ  65.566389        0.0            1.0            0.0   \n",
       " 3          RZ  69.159016        0.0           11.0            1.0   \n",
       " 4          RZ  71.275101        0.0           27.0            1.0   \n",
       " 5          RZ  73.177171        0.0           84.0            3.0   \n",
       " 6          RZ  75.441513        0.0          150.0            4.0   \n",
       " 7          RZ  78.108240        0.0          272.0            4.0   \n",
       " 8          RZ  80.418532        0.0          377.0            6.0   \n",
       " 9          RZ  86.801750        0.0          425.0            6.0   \n",
       " \n",
       "    Endothelial  Fibroblast  Lymphoid  Mast  Myeloid  Neuronal  Pericyte  vSMCs  \n",
       " 0          0.0         0.0       0.0   0.0      0.0       0.0       0.0    0.0  \n",
       " 1          0.0         0.0       0.0   0.0      0.0       0.0       0.0    0.0  \n",
       " 2          2.0         4.0       0.0   1.0      3.0       0.0       0.0    5.0  \n",
       " 3         19.0        15.0       0.0   1.0      6.0       1.0       1.0    7.0  \n",
       " 4         36.0        40.0       0.0   1.0     12.0       1.0       1.0   13.0  \n",
       " 5         77.0        79.0       0.0   1.0     23.0       1.0       2.0   15.0  \n",
       " 6        172.0       151.0       0.0   2.0     46.0       2.0       8.0   20.0  \n",
       " 7        379.0       290.0       2.0   3.0    116.0       2.0      18.0   27.0  \n",
       " 8        629.0       460.0       2.0   5.0    210.0       2.0      35.0   30.0  \n",
       " 9        756.0       505.0       4.0   6.0    240.0       2.0      40.0   32.0  ,\n",
       "   graph_label     weight  Adipocyte  Cardiomyocyte  Cycling.cells  \\\n",
       " 0          IZ  55.609838       17.0          445.0          142.0   \n",
       " 1          IZ  59.580556       22.0          639.0          210.0   \n",
       " 2          IZ  65.566389       29.0          757.0          340.0   \n",
       " 3          IZ  69.159016       33.0          796.0          452.0   \n",
       " 4          IZ  71.275101       36.0          813.0          530.0   \n",
       " 5          IZ  73.177171       37.0          823.0          612.0   \n",
       " 6          IZ  75.441513       41.0          850.0          756.0   \n",
       " 7          IZ  78.108240       53.0          887.0         1039.0   \n",
       " 8          IZ  80.418532       67.0          953.0         1406.0   \n",
       " 9          IZ  86.801750       75.0          975.0         1516.0   \n",
       " \n",
       "    Endothelial  Fibroblast  Lymphoid  Mast  Myeloid  Neuronal  Pericyte  vSMCs  \n",
       " 0        100.0        17.0       0.0   2.0     13.0       2.0       0.0   31.0  \n",
       " 1        143.0        36.0       0.0   3.0     17.0       2.0       1.0   38.0  \n",
       " 2        189.0        50.0       0.0   4.0     34.0       2.0       1.0   51.0  \n",
       " 3        227.0        60.0       0.0   4.0     42.0       2.0       1.0   54.0  \n",
       " 4        248.0        66.0       0.0   4.0     51.0       2.0       2.0   59.0  \n",
       " 5        286.0        77.0       0.0   4.0     66.0       2.0       3.0   62.0  \n",
       " 6        355.0        91.0       3.0   5.0    103.0       2.0       4.0   65.0  \n",
       " 7        490.0       111.0      19.0   5.0    205.0       2.0       8.0   66.0  \n",
       " 8        613.0       127.0      40.0   5.0    277.0      10.0       9.0   67.0  \n",
       " 9        650.0       127.0      46.0   5.0    290.0      11.0       9.0   67.0  ,\n",
       "   graph_label     weight  Adipocyte  Cardiomyocyte  Cycling.cells  \\\n",
       " 0          IZ  55.609838        0.0           15.0           38.0   \n",
       " 1          IZ  59.580556        0.0           54.0           92.0   \n",
       " 2          IZ  65.566389        0.0          188.0          202.0   \n",
       " 3          IZ  69.159016        0.0          280.0          256.0   \n",
       " 4          IZ  71.275101        0.0          343.0          288.0   \n",
       " 5          IZ  73.177171        0.0          402.0          304.0   \n",
       " 6          IZ  75.441513        0.0          442.0          323.0   \n",
       " 7          IZ  78.108240        0.0          468.0          350.0   \n",
       " 8          IZ  80.418532        0.0          510.0          370.0   \n",
       " 9          IZ  86.801750        0.0          517.0          394.0   \n",
       " \n",
       "    Endothelial  Fibroblast  Lymphoid  Mast  Myeloid  Neuronal  Pericyte  vSMCs  \n",
       " 0         22.0        81.0       0.0   0.0     54.0       0.0       0.0    5.0  \n",
       " 1         69.0       234.0       0.0   0.0    127.0       0.0       2.0    9.0  \n",
       " 2        234.0       582.0       1.0   0.0    288.0       0.0       6.0   16.0  \n",
       " 3        379.0       749.0       1.0   0.0    440.0       0.0       7.0   27.0  \n",
       " 4        496.0       844.0       1.0   0.0    524.0       0.0       8.0   30.0  \n",
       " 5        616.0       918.0       1.0   0.0    610.0       0.0      10.0   34.0  \n",
       " 6        708.0       969.0       1.0   0.0    694.0       0.0      12.0   36.0  \n",
       " 7        756.0      1014.0       3.0   0.0    762.0       1.0      12.0   39.0  \n",
       " 8        777.0      1043.0       4.0   0.0    817.0       1.0      13.0   40.0  \n",
       " 9        786.0      1050.0       4.0   0.0    839.0       1.0      13.0   41.0  ,\n",
       "   graph_label     weight  Adipocyte  Cardiomyocyte  Cycling.cells  \\\n",
       " 0          IZ  55.609838        0.0           79.0          312.0   \n",
       " 1          IZ  59.580556        0.0           99.0          391.0   \n",
       " 2          IZ  65.566389        0.0          109.0          511.0   \n",
       " 3          IZ  69.159016        0.0          113.0          559.0   \n",
       " 4          IZ  71.275101        0.0          114.0          591.0   \n",
       " 5          IZ  73.177171        0.0          114.0          608.0   \n",
       " 6          IZ  75.441513        0.0          115.0          630.0   \n",
       " 7          IZ  78.108240        0.0          118.0          647.0   \n",
       " 8          IZ  80.418532        0.0          118.0          652.0   \n",
       " 9          IZ  86.801750        0.0          118.0          652.0   \n",
       " \n",
       "    Endothelial  Fibroblast  Lymphoid  Mast  Myeloid  Neuronal  Pericyte  vSMCs  \n",
       " 0         83.0       407.0       0.0   0.0    491.0       0.0       2.0    4.0  \n",
       " 1        130.0       610.0       1.0   0.0    643.0       0.0       2.0    5.0  \n",
       " 2        194.0       807.0       5.0   0.0    822.0       1.0       2.0    6.0  \n",
       " 3        222.0       889.0       5.0   0.0    900.0       1.0       2.0    6.0  \n",
       " 4        225.0       920.0       5.0   0.0    938.0       1.0       2.0    6.0  \n",
       " 5        228.0       946.0       6.0   0.0    981.0       1.0       2.0    6.0  \n",
       " 6        229.0       968.0       6.0   0.0   1019.0       2.0       2.0    6.0  \n",
       " 7        230.0       984.0       6.0   0.0   1053.0       2.0       2.0    6.0  \n",
       " 8        230.0       990.0       6.0   0.0   1071.0       2.0       2.0    6.0  \n",
       " 9        230.0       990.0       6.0   0.0   1076.0       2.0       2.0    6.0  ,\n",
       "   graph_label     weight  Adipocyte  Cardiomyocyte  Cycling.cells  \\\n",
       " 0          IZ  55.609838        0.0            3.0          197.0   \n",
       " 1          IZ  59.580556        0.0           10.0          285.0   \n",
       " 2          IZ  65.566389        0.0           20.0          393.0   \n",
       " 3          IZ  69.159016        0.0           23.0          456.0   \n",
       " 4          IZ  71.275101        0.0           24.0          497.0   \n",
       " 5          IZ  73.177171        0.0           24.0          528.0   \n",
       " 6          IZ  75.441513        0.0           24.0          575.0   \n",
       " 7          IZ  78.108240        0.0           25.0          667.0   \n",
       " 8          IZ  80.418532        0.0           25.0          940.0   \n",
       " 9          IZ  86.801750        0.0           25.0         1133.0   \n",
       " \n",
       "    Endothelial  Fibroblast  Lymphoid  Mast  Myeloid  Neuronal  Pericyte  vSMCs  \n",
       " 0          9.0        73.0       0.0   0.0     46.0       0.0       0.0    2.0  \n",
       " 1         22.0       172.0       0.0   0.0     90.0       0.0       0.0    5.0  \n",
       " 2         43.0       292.0       0.0   0.0    192.0       0.0       0.0    7.0  \n",
       " 3         51.0       346.0       0.0   0.0    247.0       1.0       0.0   11.0  \n",
       " 4         53.0       374.0       0.0   0.0    275.0       1.0       0.0   11.0  \n",
       " 5         55.0       389.0       1.0   0.0    299.0       1.0       0.0   12.0  \n",
       " 6         55.0       421.0       2.0   1.0    331.0       1.0       0.0   12.0  \n",
       " 7         55.0       457.0       3.0   1.0    435.0       1.0       0.0   12.0  \n",
       " 8         56.0       481.0       9.0   1.0    747.0       2.0       0.0   12.0  \n",
       " 9         59.0       493.0       9.0   3.0    950.0       2.0       0.0   12.0  ]"
      ]
     },
     "execution_count": 16,
     "metadata": {},
     "output_type": "execute_result"
    }
   ],
   "source": [
    "adata.uns[\"filtration_curves\"][\"curves\"]"
   ]
  },
  {
   "cell_type": "code",
   "execution_count": 17,
   "id": "0133e620",
   "metadata": {},
   "outputs": [
    {
     "data": {
      "text/plain": [
       "array([55.6098381 , 59.58055573, 65.56638947, 69.15901642, 71.27510071,\n",
       "       73.17717133, 75.44151306, 78.10823975, 80.4185318 , 86.80175018])"
      ]
     },
     "execution_count": 17,
     "metadata": {},
     "output_type": "execute_result"
    }
   ],
   "source": [
    "adata.uns[\"filtration_curves\"][\"threshold_vals\"]"
   ]
  },
  {
   "cell_type": "markdown",
   "id": "30bf7167",
   "metadata": {},
   "source": [
    "## Plot filtration curves"
   ]
  },
  {
   "cell_type": "code",
   "execution_count": 18,
   "id": "959bf809",
   "metadata": {},
   "outputs": [
    {
     "data": {
      "image/png": "[encoded data removed]",
      "text/plain": [
       "<Figure size 2400x600 with 3 Axes>"
      ]
     },
     "metadata": {},
     "output_type": "display_data"
    }
   ],
   "source": [
    "gc.pl._filtration_curves.compare_conditions(\n",
    "        adata,\n",
    "        node_labels=[\"Cardiomyocyte\", \"Myeloid\", \"vSMCs\"]\n",
    ")"
   ]
  },
  {
   "cell_type": "code",
   "execution_count": null,
   "id": "8c484fcc",
   "metadata": {},
   "outputs": [],
   "source": []
  }
 ],
 "metadata": {
  "kernelspec": {
   "display_name": "graph_venv",
   "language": "python",
   "name": "graph_venv"
  },
  "language_info": {
   "codemirror_mode": {
    "name": "ipython",
    "version": 3
   },
   "file_extension": ".py",
   "mimetype": "text/x-python",
   "name": "python",
   "nbconvert_exporter": "python",
   "pygments_lexer": "ipython3",
   "version": "3.9.18"
  }
 },
 "nbformat": 4,
 "nbformat_minor": 5
}

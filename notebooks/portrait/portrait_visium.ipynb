{
 "cells": [
  {
   "cell_type": "markdown",
   "id": "cfdc2c07",
   "metadata": {},
   "source": [
    "### 10x Genomics Visium dataset to study myocardial tissue reorganization following ischemic injury\n",
    "\n",
    "#### Regions:\n",
    "1. Control (N= 4)\n",
    "2. Remote Zone (RZ) (N=5)\n",
    "3. Ischaemic Zone (IZ) (N=8)\n",
    "\n",
    "\n",
    "The 10x Genomics Visium heart data from Kuppe et al. is available in the Zenodo data repository: https://zenodo.org/record/6578047."
   ]
  },
  {
   "cell_type": "code",
   "execution_count": 1,
   "id": "7216cc95",
   "metadata": {},
   "outputs": [],
   "source": [
    "%load_ext autoreload\n",
    "%autoreload 2"
   ]
  },
  {
   "cell_type": "code",
   "execution_count": 2,
   "id": "bacc5f5d",
   "metadata": {},
   "outputs": [],
   "source": [
    "import warnings\n",
    "warnings.filterwarnings(\"ignore\")"
   ]
  },
  {
   "cell_type": "code",
   "execution_count": 3,
   "id": "d33a50ce",
   "metadata": {},
   "outputs": [],
   "source": [
    "import scanpy as sc\n",
    "import graphcompass as gc"
   ]
  },
  {
   "cell_type": "markdown",
   "id": "fa70de7a",
   "metadata": {},
   "source": [
    "## Load data"
   ]
  },
  {
   "cell_type": "code",
   "execution_count": 4,
   "id": "c72277f9",
   "metadata": {},
   "outputs": [],
   "source": [
    "DATA_PATH = \"/data/visium_heart/\""
   ]
  },
  {
   "cell_type": "code",
   "execution_count": 5,
   "id": "9ec34cab",
   "metadata": {},
   "outputs": [],
   "source": [
    "adata = sc.read_h5ad(DATA_PATH + \"adata_processed.h5ad\")"
   ]
  },
  {
   "cell_type": "code",
   "execution_count": 6,
   "id": "d5a2be10",
   "metadata": {
    "scrolled": true
   },
   "outputs": [
    {
     "data": {
      "text/html": [
       "<div>\n",
       "<style scoped>\n",
       "    .dataframe tbody tr th:only-of-type {\n",
       "        vertical-align: middle;\n",
       "    }\n",
       "\n",
       "    .dataframe tbody tr th {\n",
       "        vertical-align: top;\n",
       "    }\n",
       "\n",
       "    .dataframe thead th {\n",
       "        text-align: right;\n",
       "    }\n",
       "</style>\n",
       "<table border=\"1\" class=\"dataframe\">\n",
       "  <thead>\n",
       "    <tr style=\"text-align: right;\">\n",
       "      <th></th>\n",
       "      <th>n_counts</th>\n",
       "      <th>n_genes</th>\n",
       "      <th>percent.mt</th>\n",
       "      <th>Adipocyte</th>\n",
       "      <th>Cardiomyocyte</th>\n",
       "      <th>Endothelial</th>\n",
       "      <th>Fibroblast</th>\n",
       "      <th>Lymphoid</th>\n",
       "      <th>Mast</th>\n",
       "      <th>Myeloid</th>\n",
       "      <th>...</th>\n",
       "      <th>cell_type</th>\n",
       "      <th>assay</th>\n",
       "      <th>disease</th>\n",
       "      <th>organism</th>\n",
       "      <th>sex</th>\n",
       "      <th>tissue</th>\n",
       "      <th>ethnicity</th>\n",
       "      <th>development_stage</th>\n",
       "      <th>sample</th>\n",
       "      <th>condition</th>\n",
       "    </tr>\n",
       "  </thead>\n",
       "  <tbody>\n",
       "    <tr>\n",
       "      <th>AAACAAGTATCTCCCA-1</th>\n",
       "      <td>4429.0</td>\n",
       "      <td>2147</td>\n",
       "      <td>29.575465</td>\n",
       "      <td>0.001598</td>\n",
       "      <td>0.437324</td>\n",
       "      <td>0.024356</td>\n",
       "      <td>0.318303</td>\n",
       "      <td>0.022537</td>\n",
       "      <td>0.003858</td>\n",
       "      <td>0.059224</td>\n",
       "      <td>...</td>\n",
       "      <td>cardiac muscle myoblast</td>\n",
       "      <td>Visium Spatial Gene Expression</td>\n",
       "      <td>normal</td>\n",
       "      <td>Homo sapiens</td>\n",
       "      <td>female</td>\n",
       "      <td>heart left ventricle</td>\n",
       "      <td>European</td>\n",
       "      <td>44-year-old human stage</td>\n",
       "      <td>control_P1</td>\n",
       "      <td>control</td>\n",
       "    </tr>\n",
       "    <tr>\n",
       "      <th>AAACAATCTACTAGCA-1</th>\n",
       "      <td>3037.0</td>\n",
       "      <td>1591</td>\n",
       "      <td>31.299898</td>\n",
       "      <td>0.000482</td>\n",
       "      <td>0.743949</td>\n",
       "      <td>0.082948</td>\n",
       "      <td>0.089687</td>\n",
       "      <td>0.002331</td>\n",
       "      <td>0.000562</td>\n",
       "      <td>0.039163</td>\n",
       "      <td>...</td>\n",
       "      <td>cardiac muscle myoblast</td>\n",
       "      <td>Visium Spatial Gene Expression</td>\n",
       "      <td>normal</td>\n",
       "      <td>Homo sapiens</td>\n",
       "      <td>female</td>\n",
       "      <td>heart left ventricle</td>\n",
       "      <td>European</td>\n",
       "      <td>44-year-old human stage</td>\n",
       "      <td>control_P1</td>\n",
       "      <td>control</td>\n",
       "    </tr>\n",
       "    <tr>\n",
       "      <th>AAACACCAATAACTGC-1</th>\n",
       "      <td>2507.0</td>\n",
       "      <td>1462</td>\n",
       "      <td>23.956640</td>\n",
       "      <td>0.001974</td>\n",
       "      <td>0.375296</td>\n",
       "      <td>0.167984</td>\n",
       "      <td>0.151615</td>\n",
       "      <td>0.004123</td>\n",
       "      <td>0.033053</td>\n",
       "      <td>0.009395</td>\n",
       "      <td>...</td>\n",
       "      <td>cardiac muscle myoblast</td>\n",
       "      <td>Visium Spatial Gene Expression</td>\n",
       "      <td>normal</td>\n",
       "      <td>Homo sapiens</td>\n",
       "      <td>female</td>\n",
       "      <td>heart left ventricle</td>\n",
       "      <td>European</td>\n",
       "      <td>44-year-old human stage</td>\n",
       "      <td>control_P1</td>\n",
       "      <td>control</td>\n",
       "    </tr>\n",
       "    <tr>\n",
       "      <th>AAACAGAGCGACTCCT-1</th>\n",
       "      <td>2502.0</td>\n",
       "      <td>1341</td>\n",
       "      <td>33.018868</td>\n",
       "      <td>0.000110</td>\n",
       "      <td>0.652696</td>\n",
       "      <td>0.095914</td>\n",
       "      <td>0.154588</td>\n",
       "      <td>0.005017</td>\n",
       "      <td>0.000977</td>\n",
       "      <td>0.055517</td>\n",
       "      <td>...</td>\n",
       "      <td>cardiac muscle myoblast</td>\n",
       "      <td>Visium Spatial Gene Expression</td>\n",
       "      <td>normal</td>\n",
       "      <td>Homo sapiens</td>\n",
       "      <td>female</td>\n",
       "      <td>heart left ventricle</td>\n",
       "      <td>European</td>\n",
       "      <td>44-year-old human stage</td>\n",
       "      <td>control_P1</td>\n",
       "      <td>control</td>\n",
       "    </tr>\n",
       "    <tr>\n",
       "      <th>AAACAGCTTTCAGAAG-1</th>\n",
       "      <td>3054.0</td>\n",
       "      <td>1617</td>\n",
       "      <td>33.638132</td>\n",
       "      <td>0.000084</td>\n",
       "      <td>0.533660</td>\n",
       "      <td>0.164157</td>\n",
       "      <td>0.065999</td>\n",
       "      <td>0.004493</td>\n",
       "      <td>0.001532</td>\n",
       "      <td>0.072105</td>\n",
       "      <td>...</td>\n",
       "      <td>cardiac muscle myoblast</td>\n",
       "      <td>Visium Spatial Gene Expression</td>\n",
       "      <td>normal</td>\n",
       "      <td>Homo sapiens</td>\n",
       "      <td>female</td>\n",
       "      <td>heart left ventricle</td>\n",
       "      <td>European</td>\n",
       "      <td>44-year-old human stage</td>\n",
       "      <td>control_P1</td>\n",
       "      <td>control</td>\n",
       "    </tr>\n",
       "  </tbody>\n",
       "</table>\n",
       "<p>5 rows × 34 columns</p>\n",
       "</div>"
      ],
      "text/plain": [
       "                    n_counts  n_genes  percent.mt  Adipocyte  Cardiomyocyte  \\\n",
       "AAACAAGTATCTCCCA-1    4429.0     2147   29.575465   0.001598       0.437324   \n",
       "AAACAATCTACTAGCA-1    3037.0     1591   31.299898   0.000482       0.743949   \n",
       "AAACACCAATAACTGC-1    2507.0     1462   23.956640   0.001974       0.375296   \n",
       "AAACAGAGCGACTCCT-1    2502.0     1341   33.018868   0.000110       0.652696   \n",
       "AAACAGCTTTCAGAAG-1    3054.0     1617   33.638132   0.000084       0.533660   \n",
       "\n",
       "                    Endothelial  Fibroblast  Lymphoid      Mast   Myeloid  \\\n",
       "AAACAAGTATCTCCCA-1     0.024356    0.318303  0.022537  0.003858  0.059224   \n",
       "AAACAATCTACTAGCA-1     0.082948    0.089687  0.002331  0.000562  0.039163   \n",
       "AAACACCAATAACTGC-1     0.167984    0.151615  0.004123  0.033053  0.009395   \n",
       "AAACAGAGCGACTCCT-1     0.095914    0.154588  0.005017  0.000977  0.055517   \n",
       "AAACAGCTTTCAGAAG-1     0.164157    0.065999  0.004493  0.001532  0.072105   \n",
       "\n",
       "                    ...                cell_type  \\\n",
       "AAACAAGTATCTCCCA-1  ...  cardiac muscle myoblast   \n",
       "AAACAATCTACTAGCA-1  ...  cardiac muscle myoblast   \n",
       "AAACACCAATAACTGC-1  ...  cardiac muscle myoblast   \n",
       "AAACAGAGCGACTCCT-1  ...  cardiac muscle myoblast   \n",
       "AAACAGCTTTCAGAAG-1  ...  cardiac muscle myoblast   \n",
       "\n",
       "                                             assay  disease      organism  \\\n",
       "AAACAAGTATCTCCCA-1  Visium Spatial Gene Expression   normal  Homo sapiens   \n",
       "AAACAATCTACTAGCA-1  Visium Spatial Gene Expression   normal  Homo sapiens   \n",
       "AAACACCAATAACTGC-1  Visium Spatial Gene Expression   normal  Homo sapiens   \n",
       "AAACAGAGCGACTCCT-1  Visium Spatial Gene Expression   normal  Homo sapiens   \n",
       "AAACAGCTTTCAGAAG-1  Visium Spatial Gene Expression   normal  Homo sapiens   \n",
       "\n",
       "                       sex                tissue ethnicity  \\\n",
       "AAACAAGTATCTCCCA-1  female  heart left ventricle  European   \n",
       "AAACAATCTACTAGCA-1  female  heart left ventricle  European   \n",
       "AAACACCAATAACTGC-1  female  heart left ventricle  European   \n",
       "AAACAGAGCGACTCCT-1  female  heart left ventricle  European   \n",
       "AAACAGCTTTCAGAAG-1  female  heart left ventricle  European   \n",
       "\n",
       "                          development_stage      sample condition  \n",
       "AAACAAGTATCTCCCA-1  44-year-old human stage  control_P1   control  \n",
       "AAACAATCTACTAGCA-1  44-year-old human stage  control_P1   control  \n",
       "AAACACCAATAACTGC-1  44-year-old human stage  control_P1   control  \n",
       "AAACAGAGCGACTCCT-1  44-year-old human stage  control_P1   control  \n",
       "AAACAGCTTTCAGAAG-1  44-year-old human stage  control_P1   control  \n",
       "\n",
       "[5 rows x 34 columns]"
      ]
     },
     "execution_count": 6,
     "metadata": {},
     "output_type": "execute_result"
    }
   ],
   "source": [
    "adata.obs.head()"
   ]
  },
  {
   "cell_type": "markdown",
   "id": "9ba1cb98",
   "metadata": {},
   "source": [
    "## Compute distances between cell-type specific subgraphs using portrait method to compare conditions"
   ]
  },
  {
   "cell_type": "code",
   "execution_count": 7,
   "id": "e74285b6",
   "metadata": {},
   "outputs": [],
   "source": [
    "# define library_key and cluster_key for computing spatial graphs using `squidpy.gr.spatial_neighbors`\n",
    "\n",
    "library_key=\"sample\"\n",
    "cluster_key=\"cell_type_original\""
   ]
  },
  {
   "cell_type": "code",
   "execution_count": 8,
   "id": "7d5937d9",
   "metadata": {
    "scrolled": true
   },
   "outputs": [],
   "source": [
    "# compute pairwise similarities between cell-type specific graphs across samples\n",
    "### results are stored in adata.uns[\"pairwise_similarities\"]\n",
    "\n",
    "gc.tl.distance.compare_conditions(\n",
    "    adata=adata,\n",
    "    library_key=library_key,\n",
    "    cluster_key=cluster_key,\n",
    "    method=\"portrait\",\n",
    "    kwargs_spatial_neighbors={\n",
    "        'coord_type': 'grid',\n",
    "        'n_neighs': 6,\n",
    "    },\n",
    ")"
   ]
  },
  {
   "cell_type": "code",
   "execution_count": 9,
   "id": "38388c6c",
   "metadata": {},
   "outputs": [
    {
     "data": {
      "text/plain": [
       "AnnData object with n_obs × n_vars = 54258 × 11669\n",
       "    obs: 'n_counts', 'n_genes', 'percent.mt', 'Adipocyte', 'Cardiomyocyte', 'Endothelial', 'Fibroblast', 'Lymphoid', 'Mast', 'Myeloid', 'Neuronal', 'Pericyte', 'Cycling.cells', 'vSMCs', 'cell_type_original', 'assay_ontology_term_id', 'cell_type_ontology_term_id', 'development_stage_ontology_term_id', 'disease_ontology_term_id', 'ethnicity_ontology_term_id', 'is_primary_data', 'organism_ontology_term_id', 'sex_ontology_term_id', 'tissue_ontology_term_id', 'cell_type', 'assay', 'disease', 'organism', 'sex', 'tissue', 'ethnicity', 'development_stage', 'sample', 'condition'\n",
       "    var: 'feature_biotype', 'feature_is_filtered', 'feature_name', 'feature_reference'\n",
       "    uns: 'cell_type_original_sample_nhood_enrichment', 'pairwise_similarities', 'spatial_neighbors'\n",
       "    obsm: 'X_pca', 'X_spatial', 'X_umap', 'spatial'\n",
       "    obsp: 'spatial_connectivities', 'spatial_distances'"
      ]
     },
     "execution_count": 9,
     "metadata": {},
     "output_type": "execute_result"
    }
   ],
   "source": [
    "adata"
   ]
  },
  {
   "cell_type": "markdown",
   "id": "10c92155",
   "metadata": {},
   "source": [
    "## Plot results"
   ]
  },
  {
   "cell_type": "code",
   "execution_count": 14,
   "id": "61211440",
   "metadata": {},
   "outputs": [],
   "source": [
    "# define necessary params\n",
    "condition_key=\"condition\" # key in adata.obs where conditions are stored\n",
    "control_group=\"RZ\" # reference group"
   ]
  },
  {
   "cell_type": "code",
   "execution_count": 16,
   "id": "703e2370",
   "metadata": {},
   "outputs": [
    {
     "name": "stderr",
     "output_type": "stream",
     "text": [
      "11it [00:01,  7.50it/s]\n"
     ]
    },
    {
     "data": {
      "image/png": "[encoded data removed]",
      "text/plain": [
       "<Figure size 800x600 with 2 Axes>"
      ]
     },
     "metadata": {
      "needs_background": "light"
     },
     "output_type": "display_data"
    }
   ],
   "source": [
    "## Note: dot size indicates the variance between samples. The smaller the dot the more variance there is \n",
    "## between samples.\n",
    "\n",
    "gc.pl.distance.compare_conditions(\n",
    "    adata=adata,\n",
    "    library_key=library_key,\n",
    "    condition_key=condition_key,\n",
    "    control_group=control_group,\n",
    "    # add_ncells_and_density_plots=True,\n",
    "    palette=\"Reds\",\n",
    "    dpi=100,\n",
    "    figsize=(8,6),\n",
    "#     save=\"figures/visium_portrait.pdf\"\n",
    ")"
   ]
  }
 ],
 "metadata": {
  "kernelspec": {
   "display_name": "Python 3 (ipykernel)",
   "language": "python",
   "name": "python3"
  },
  "language_info": {
   "codemirror_mode": {
    "name": "ipython",
    "version": 3
   },
   "file_extension": ".py",
   "mimetype": "text/x-python",
   "name": "python",
   "nbconvert_exporter": "python",
   "pygments_lexer": "ipython3",
   "version": "3.10.12"
  }
 },
 "nbformat": 4,
 "nbformat_minor": 5
}

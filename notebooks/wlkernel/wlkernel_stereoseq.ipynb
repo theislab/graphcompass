{
 "cells": [
  {
   "cell_type": "markdown",
   "id": "a66e0612",
   "metadata": {},
   "source": [
    "### Stereo-seq dataset to study the restoration of axolotl brain function upon injury\n",
    "\n",
    "#### Conditions:\n",
    "1. Adult (N=1)\n",
    "2. 30 day-post injury (30DPI) (N=1)\n",
    "3. 30 day-post injury (60DPI) (N=1)\n",
    "\n",
    "\n",
    "The Stereo-seq axolotl data from Wei et al. is available in the Spatial Transcript Omics DataBase (STOmics DB):\n",
    "https://db.cngb.org/stomics/artista/."
   ]
  },
  {
   "cell_type": "code",
   "execution_count": 1,
   "id": "7216cc95",
   "metadata": {},
   "outputs": [],
   "source": [
    "%load_ext autoreload\n",
    "%autoreload 2"
   ]
  },
  {
   "cell_type": "code",
   "execution_count": 2,
   "id": "bacc5f5d",
   "metadata": {},
   "outputs": [],
   "source": [
    "import warnings\n",
    "warnings.filterwarnings(\"ignore\")"
   ]
  },
  {
   "cell_type": "code",
   "execution_count": 3,
   "id": "d33a50ce",
   "metadata": {},
   "outputs": [],
   "source": [
    "import scanpy as sc\n",
    "import graphcompass as gc"
   ]
  },
  {
   "cell_type": "markdown",
   "id": "cf9fc01c",
   "metadata": {},
   "source": [
    "## Load data"
   ]
  },
  {
   "cell_type": "code",
   "execution_count": 4,
   "id": "c72277f9",
   "metadata": {},
   "outputs": [],
   "source": [
    "DATA_PATH = \"/data/stereoseq_axolotl/\""
   ]
  },
  {
   "cell_type": "code",
   "execution_count": 5,
   "id": "9ec34cab",
   "metadata": {},
   "outputs": [],
   "source": [
    "adata = sc.read_h5ad(DATA_PATH + \"adata_processed.h5ad\")"
   ]
  },
  {
   "cell_type": "code",
   "execution_count": 6,
   "id": "c1e964a4",
   "metadata": {},
   "outputs": [
    {
     "data": {
      "text/html": [
       "<div>\n",
       "<style scoped>\n",
       "    .dataframe tbody tr th:only-of-type {\n",
       "        vertical-align: middle;\n",
       "    }\n",
       "\n",
       "    .dataframe tbody tr th {\n",
       "        vertical-align: top;\n",
       "    }\n",
       "\n",
       "    .dataframe thead th {\n",
       "        text-align: right;\n",
       "    }\n",
       "</style>\n",
       "<table border=\"1\" class=\"dataframe\">\n",
       "  <thead>\n",
       "    <tr style=\"text-align: right;\">\n",
       "      <th></th>\n",
       "      <th>CellID</th>\n",
       "      <th>Batch</th>\n",
       "      <th>Annotation</th>\n",
       "      <th>cell_id</th>\n",
       "      <th>spatial_leiden_e30_s8</th>\n",
       "      <th>seurat_clusters</th>\n",
       "      <th>inj_uninj</th>\n",
       "      <th>D_V</th>\n",
       "      <th>batch</th>\n",
       "      <th>Status</th>\n",
       "    </tr>\n",
       "  </thead>\n",
       "  <tbody>\n",
       "    <tr>\n",
       "      <th>CELL.1-0</th>\n",
       "      <td>CELL.1</td>\n",
       "      <td>Batch1_Adult_telencephalon_rep2_DP8400015234BL...</td>\n",
       "      <td>VLMC</td>\n",
       "      <td>1</td>\n",
       "      <td>NaN</td>\n",
       "      <td>NaN</td>\n",
       "      <td>NaN</td>\n",
       "      <td>NaN</td>\n",
       "      <td>0</td>\n",
       "      <td>Adult</td>\n",
       "    </tr>\n",
       "    <tr>\n",
       "      <th>CELL.2-0</th>\n",
       "      <td>CELL.2</td>\n",
       "      <td>Batch1_Adult_telencephalon_rep2_DP8400015234BL...</td>\n",
       "      <td>VLMC</td>\n",
       "      <td>2</td>\n",
       "      <td>NaN</td>\n",
       "      <td>NaN</td>\n",
       "      <td>NaN</td>\n",
       "      <td>NaN</td>\n",
       "      <td>0</td>\n",
       "      <td>Adult</td>\n",
       "    </tr>\n",
       "    <tr>\n",
       "      <th>CELL.3-0</th>\n",
       "      <td>CELL.3</td>\n",
       "      <td>Batch1_Adult_telencephalon_rep2_DP8400015234BL...</td>\n",
       "      <td>VLMC</td>\n",
       "      <td>3</td>\n",
       "      <td>NaN</td>\n",
       "      <td>NaN</td>\n",
       "      <td>NaN</td>\n",
       "      <td>NaN</td>\n",
       "      <td>0</td>\n",
       "      <td>Adult</td>\n",
       "    </tr>\n",
       "    <tr>\n",
       "      <th>CELL.4-0</th>\n",
       "      <td>CELL.4</td>\n",
       "      <td>Batch1_Adult_telencephalon_rep2_DP8400015234BL...</td>\n",
       "      <td>VLMC</td>\n",
       "      <td>4</td>\n",
       "      <td>NaN</td>\n",
       "      <td>NaN</td>\n",
       "      <td>NaN</td>\n",
       "      <td>NaN</td>\n",
       "      <td>0</td>\n",
       "      <td>Adult</td>\n",
       "    </tr>\n",
       "    <tr>\n",
       "      <th>CELL.5-0</th>\n",
       "      <td>CELL.5</td>\n",
       "      <td>Batch1_Adult_telencephalon_rep2_DP8400015234BL...</td>\n",
       "      <td>VLMC</td>\n",
       "      <td>5</td>\n",
       "      <td>NaN</td>\n",
       "      <td>NaN</td>\n",
       "      <td>NaN</td>\n",
       "      <td>NaN</td>\n",
       "      <td>0</td>\n",
       "      <td>Adult</td>\n",
       "    </tr>\n",
       "  </tbody>\n",
       "</table>\n",
       "</div>"
      ],
      "text/plain": [
       "          CellID                                              Batch  \\\n",
       "CELL.1-0  CELL.1  Batch1_Adult_telencephalon_rep2_DP8400015234BL...   \n",
       "CELL.2-0  CELL.2  Batch1_Adult_telencephalon_rep2_DP8400015234BL...   \n",
       "CELL.3-0  CELL.3  Batch1_Adult_telencephalon_rep2_DP8400015234BL...   \n",
       "CELL.4-0  CELL.4  Batch1_Adult_telencephalon_rep2_DP8400015234BL...   \n",
       "CELL.5-0  CELL.5  Batch1_Adult_telencephalon_rep2_DP8400015234BL...   \n",
       "\n",
       "         Annotation  cell_id spatial_leiden_e30_s8 seurat_clusters inj_uninj  \\\n",
       "CELL.1-0       VLMC        1                   NaN             NaN       NaN   \n",
       "CELL.2-0       VLMC        2                   NaN             NaN       NaN   \n",
       "CELL.3-0       VLMC        3                   NaN             NaN       NaN   \n",
       "CELL.4-0       VLMC        4                   NaN             NaN       NaN   \n",
       "CELL.5-0       VLMC        5                   NaN             NaN       NaN   \n",
       "\n",
       "          D_V batch Status  \n",
       "CELL.1-0  NaN     0  Adult  \n",
       "CELL.2-0  NaN     0  Adult  \n",
       "CELL.3-0  NaN     0  Adult  \n",
       "CELL.4-0  NaN     0  Adult  \n",
       "CELL.5-0  NaN     0  Adult  "
      ]
     },
     "execution_count": 6,
     "metadata": {},
     "output_type": "execute_result"
    }
   ],
   "source": [
    "adata.obs.head()"
   ]
  },
  {
   "cell_type": "markdown",
   "id": "823a3a09",
   "metadata": {},
   "source": [
    "## Compute Weisfeiler-Lehman Graph Kernels to compare conditions"
   ]
  },
  {
   "cell_type": "code",
   "execution_count": 7,
   "id": "e74285b6",
   "metadata": {},
   "outputs": [],
   "source": [
    "# define library_key and cluster_key for computing spatial graphs using `squidpy.gr.spatial_neighbors`\n",
    "\n",
    "library_key=\"Batch\"\n",
    "cluster_key=\"Annotation\""
   ]
  },
  {
   "cell_type": "code",
   "execution_count": 8,
   "id": "7d5937d9",
   "metadata": {
    "scrolled": true
   },
   "outputs": [],
   "source": [
    "# compute WWL kernels\n",
    "### results are stored in adata.uns[\"wl_kernel\"]\n",
    "\n",
    "gc.tl.wlkernel.compare_conditions(\n",
    "   adata=adata,\n",
    "   library_key=library_key,\n",
    "   cluster_key=cluster_key,\n",
    "   compute_spatial_graphs=True,\n",
    "   kwargs_spatial_neighbors={\n",
    "        'coord_type': 'generic',\n",
    "        'delaunay': True,  \n",
    "    },\n",
    ")"
   ]
  },
  {
   "cell_type": "code",
   "execution_count": 9,
   "id": "b7c533dc",
   "metadata": {},
   "outputs": [
    {
     "data": {
      "text/plain": [
       "AnnData object with n_obs × n_vars = 28459 × 18611\n",
       "    obs: 'CellID', 'Batch', 'Annotation', 'cell_id', 'spatial_leiden_e30_s8', 'seurat_clusters', 'inj_uninj', 'D_V', 'batch', 'Status'\n",
       "    var: 'Gene'\n",
       "    uns: 'Annotation_Batch_nhood_enrichment', 'pairwise_similarities', 'spatial_neighbors', 'wl_kernel'\n",
       "    obsm: 'spatial'\n",
       "    layers: 'counts'\n",
       "    obsp: 'spatial_connectivities', 'spatial_distances'"
      ]
     },
     "execution_count": 9,
     "metadata": {},
     "output_type": "execute_result"
    }
   ],
   "source": [
    "adata"
   ]
  },
  {
   "cell_type": "markdown",
   "id": "3095bdae",
   "metadata": {},
   "source": [
    "## Plot results"
   ]
  },
  {
   "cell_type": "code",
   "execution_count": 11,
   "id": "3fd7fadf",
   "metadata": {},
   "outputs": [],
   "source": [
    "# define necessary params\n",
    "condition_key=\"Status\" # key in adata.obs where conditions are stored\n",
    "control_group=\"Injury 60DPI\" # reference group\n",
    "metric_key=\"wasserstein_distance\" \n",
    "method=\"wl_kernel\""
   ]
  },
  {
   "cell_type": "code",
   "execution_count": 13,
   "id": "2fe77076",
   "metadata": {
    "scrolled": false
   },
   "outputs": [
    {
     "data": {
      "image/png": "[encoded data removed]",
      "text/plain": [
       "<Figure size 500x200 with 1 Axes>"
      ]
     },
     "metadata": {
      "needs_background": "light"
     },
     "output_type": "display_data"
    }
   ],
   "source": [
    "# Note: a smaller Wasserstein distance indicates a higher similarity between the two graphs, \n",
    "# while a larger distance indicates less similarity.\n",
    "\n",
    "# boxplot: in case of multiple samples per condition.\n",
    "# barplot: in case of one sample per condition.\n",
    "\n",
    "gc.pl.wlkernel.compare_conditions(\n",
    "    adata=adata,\n",
    "    library_key=library_key,\n",
    "    condition_key=condition_key,\n",
    "    control_group=control_group,\n",
    "    metric_key=metric_key,\n",
    "    method=method,\n",
    "    figsize=(5,2),\n",
    "    dpi=100,\n",
    "    #save=\"figures/stereoseq_wwlkerenl.pdf\"\n",
    ")"
   ]
  }
 ],
 "metadata": {
  "kernelspec": {
   "display_name": "Python 3 (ipykernel)",
   "language": "python",
   "name": "python3"
  },
  "language_info": {
   "codemirror_mode": {
    "name": "ipython",
    "version": 3
   },
   "file_extension": ".py",
   "mimetype": "text/x-python",
   "name": "python",
   "nbconvert_exporter": "python",
   "pygments_lexer": "ipython3",
   "version": "3.10.12"
  }
 },
 "nbformat": 4,
 "nbformat_minor": 5
}

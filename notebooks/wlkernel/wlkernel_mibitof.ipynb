{
 "cells": [
  {
   "cell_type": "markdown",
   "id": "153740ab",
   "metadata": {},
   "source": [
    "### MIBI-TOF dataset to study  the spatial organization of the tumor microenvironment and breast cancer progression\n",
    "\n",
    "#### Conditions:\n",
    "1. Normal (N=9)\n",
    "2. Non-progressors (ctrl) (N=44)\n",
    "3. Progressors (case) (N=14)\n",
    "\n",
    "\n",
    "The MIBI-TOF breast cancer data from Risom et al. is available in a public Mendeley data repository: https://data.mendeley.com/datasets/d87vg86zd8. "
   ]
  },
  {
   "cell_type": "code",
   "execution_count": 1,
   "id": "7216cc95",
   "metadata": {},
   "outputs": [],
   "source": [
    "%load_ext autoreload\n",
    "%autoreload 2"
   ]
  },
  {
   "cell_type": "code",
   "execution_count": 2,
   "id": "bacc5f5d",
   "metadata": {},
   "outputs": [],
   "source": [
    "import warnings\n",
    "warnings.filterwarnings(\"ignore\")"
   ]
  },
  {
   "cell_type": "code",
   "execution_count": 3,
   "id": "d33a50ce",
   "metadata": {},
   "outputs": [],
   "source": [
    "import scanpy as sc\n",
    "import graphcompass as gc"
   ]
  },
  {
   "cell_type": "markdown",
   "id": "9b02b861",
   "metadata": {},
   "source": [
    "## Load data"
   ]
  },
  {
   "cell_type": "code",
   "execution_count": 4,
   "id": "c72277f9",
   "metadata": {},
   "outputs": [],
   "source": [
    "# change to path where adata is stored\n",
    "DATA_PATH = \"/data/mibitof_breast_cancer/\""
   ]
  },
  {
   "cell_type": "code",
   "execution_count": 5,
   "id": "9ec34cab",
   "metadata": {},
   "outputs": [],
   "source": [
    "adata = sc.read_h5ad(DATA_PATH + \"adata_processed.h5ad\")"
   ]
  },
  {
   "cell_type": "code",
   "execution_count": 13,
   "id": "9623a45e",
   "metadata": {},
   "outputs": [
    {
     "data": {
      "text/html": [
       "<div>\n",
       "<style scoped>\n",
       "    .dataframe tbody tr th:only-of-type {\n",
       "        vertical-align: middle;\n",
       "    }\n",
       "\n",
       "    .dataframe tbody tr th {\n",
       "        vertical-align: top;\n",
       "    }\n",
       "\n",
       "    .dataframe thead th {\n",
       "        text-align: right;\n",
       "    }\n",
       "</style>\n",
       "<table border=\"1\" class=\"dataframe\">\n",
       "  <thead>\n",
       "    <tr style=\"text-align: right;\">\n",
       "      <th></th>\n",
       "      <th>event</th>\n",
       "      <th>Point_Num</th>\n",
       "      <th>CohortNumber</th>\n",
       "      <th>Tissue_Type</th>\n",
       "      <th>Status</th>\n",
       "      <th>Tissue</th>\n",
       "      <th>sublineage</th>\n",
       "      <th>phenotype</th>\n",
       "      <th>compartment</th>\n",
       "      <th>celllineage</th>\n",
       "      <th>...</th>\n",
       "      <th>Neighbor_dist_BCELL</th>\n",
       "      <th>Neighbor_dist_TCELL</th>\n",
       "      <th>Neighbor_dist_NEUT</th>\n",
       "      <th>Neighbor_dist_IMMUNEOTHER</th>\n",
       "      <th>K10_cluster</th>\n",
       "      <th>duct_edge_mask</th>\n",
       "      <th>duct_mid_mask</th>\n",
       "      <th>duct_core_mask</th>\n",
       "      <th>labels_id</th>\n",
       "      <th>batch</th>\n",
       "    </tr>\n",
       "    <tr>\n",
       "      <th>labels_id</th>\n",
       "      <th></th>\n",
       "      <th></th>\n",
       "      <th></th>\n",
       "      <th></th>\n",
       "      <th></th>\n",
       "      <th></th>\n",
       "      <th></th>\n",
       "      <th></th>\n",
       "      <th></th>\n",
       "      <th></th>\n",
       "      <th></th>\n",
       "      <th></th>\n",
       "      <th></th>\n",
       "      <th></th>\n",
       "      <th></th>\n",
       "      <th></th>\n",
       "      <th></th>\n",
       "      <th></th>\n",
       "      <th></th>\n",
       "      <th></th>\n",
       "      <th></th>\n",
       "    </tr>\n",
       "  </thead>\n",
       "  <tbody>\n",
       "    <tr>\n",
       "      <th>2</th>\n",
       "      <td>70001</td>\n",
       "      <td>2203</td>\n",
       "      <td>3</td>\n",
       "      <td>DCIS</td>\n",
       "      <td>ctrl</td>\n",
       "      <td>DCIS</td>\n",
       "      <td>TUMOR</td>\n",
       "      <td>TUMOR_LUMINAL</td>\n",
       "      <td>epithelial</td>\n",
       "      <td>tumor</td>\n",
       "      <td>...</td>\n",
       "      <td>0.0</td>\n",
       "      <td>0.0</td>\n",
       "      <td>0.0</td>\n",
       "      <td>0.0</td>\n",
       "      <td>8</td>\n",
       "      <td>0</td>\n",
       "      <td>0</td>\n",
       "      <td>0</td>\n",
       "      <td>2</td>\n",
       "      <td>0</td>\n",
       "    </tr>\n",
       "    <tr>\n",
       "      <th>4</th>\n",
       "      <td>70003</td>\n",
       "      <td>2203</td>\n",
       "      <td>3</td>\n",
       "      <td>DCIS</td>\n",
       "      <td>ctrl</td>\n",
       "      <td>DCIS</td>\n",
       "      <td>TUMOR</td>\n",
       "      <td>TUMOR_LUMINAL</td>\n",
       "      <td>epithelial</td>\n",
       "      <td>tumor</td>\n",
       "      <td>...</td>\n",
       "      <td>0.0</td>\n",
       "      <td>0.0</td>\n",
       "      <td>0.0</td>\n",
       "      <td>0.0</td>\n",
       "      <td>2</td>\n",
       "      <td>1</td>\n",
       "      <td>0</td>\n",
       "      <td>0</td>\n",
       "      <td>4</td>\n",
       "      <td>0</td>\n",
       "    </tr>\n",
       "    <tr>\n",
       "      <th>10</th>\n",
       "      <td>70006</td>\n",
       "      <td>2203</td>\n",
       "      <td>3</td>\n",
       "      <td>DCIS</td>\n",
       "      <td>ctrl</td>\n",
       "      <td>DCIS</td>\n",
       "      <td>TUMOR</td>\n",
       "      <td>TUMOR_LUMINAL</td>\n",
       "      <td>epithelial</td>\n",
       "      <td>tumor</td>\n",
       "      <td>...</td>\n",
       "      <td>0.0</td>\n",
       "      <td>0.0</td>\n",
       "      <td>0.0</td>\n",
       "      <td>0.0</td>\n",
       "      <td>2</td>\n",
       "      <td>0</td>\n",
       "      <td>1</td>\n",
       "      <td>0</td>\n",
       "      <td>10</td>\n",
       "      <td>0</td>\n",
       "    </tr>\n",
       "    <tr>\n",
       "      <th>11</th>\n",
       "      <td>70007</td>\n",
       "      <td>2203</td>\n",
       "      <td>3</td>\n",
       "      <td>DCIS</td>\n",
       "      <td>ctrl</td>\n",
       "      <td>DCIS</td>\n",
       "      <td>TUMOR</td>\n",
       "      <td>TUMOR_LUMINAL</td>\n",
       "      <td>epithelial</td>\n",
       "      <td>tumor</td>\n",
       "      <td>...</td>\n",
       "      <td>0.0</td>\n",
       "      <td>0.0</td>\n",
       "      <td>0.0</td>\n",
       "      <td>0.0</td>\n",
       "      <td>2</td>\n",
       "      <td>0</td>\n",
       "      <td>1</td>\n",
       "      <td>0</td>\n",
       "      <td>11</td>\n",
       "      <td>0</td>\n",
       "    </tr>\n",
       "    <tr>\n",
       "      <th>13</th>\n",
       "      <td>70008</td>\n",
       "      <td>2203</td>\n",
       "      <td>3</td>\n",
       "      <td>DCIS</td>\n",
       "      <td>ctrl</td>\n",
       "      <td>DCIS</td>\n",
       "      <td>TUMOR</td>\n",
       "      <td>TUMOR_LUMINAL</td>\n",
       "      <td>epithelial</td>\n",
       "      <td>tumor</td>\n",
       "      <td>...</td>\n",
       "      <td>0.0</td>\n",
       "      <td>0.0</td>\n",
       "      <td>0.0</td>\n",
       "      <td>0.0</td>\n",
       "      <td>8</td>\n",
       "      <td>1</td>\n",
       "      <td>0</td>\n",
       "      <td>0</td>\n",
       "      <td>13</td>\n",
       "      <td>0</td>\n",
       "    </tr>\n",
       "  </tbody>\n",
       "</table>\n",
       "<p>5 rows × 78 columns</p>\n",
       "</div>"
      ],
      "text/plain": [
       "           event Point_Num  CohortNumber Tissue_Type Status Tissue sublineage  \\\n",
       "labels_id                                                                       \n",
       "2          70001      2203             3        DCIS   ctrl   DCIS      TUMOR   \n",
       "4          70003      2203             3        DCIS   ctrl   DCIS      TUMOR   \n",
       "10         70006      2203             3        DCIS   ctrl   DCIS      TUMOR   \n",
       "11         70007      2203             3        DCIS   ctrl   DCIS      TUMOR   \n",
       "13         70008      2203             3        DCIS   ctrl   DCIS      TUMOR   \n",
       "\n",
       "               phenotype compartment celllineage  ...  Neighbor_dist_BCELL  \\\n",
       "labels_id                                         ...                        \n",
       "2          TUMOR_LUMINAL  epithelial       tumor  ...                  0.0   \n",
       "4          TUMOR_LUMINAL  epithelial       tumor  ...                  0.0   \n",
       "10         TUMOR_LUMINAL  epithelial       tumor  ...                  0.0   \n",
       "11         TUMOR_LUMINAL  epithelial       tumor  ...                  0.0   \n",
       "13         TUMOR_LUMINAL  epithelial       tumor  ...                  0.0   \n",
       "\n",
       "           Neighbor_dist_TCELL  Neighbor_dist_NEUT  Neighbor_dist_IMMUNEOTHER  \\\n",
       "labels_id                                                                       \n",
       "2                          0.0                 0.0                        0.0   \n",
       "4                          0.0                 0.0                        0.0   \n",
       "10                         0.0                 0.0                        0.0   \n",
       "11                         0.0                 0.0                        0.0   \n",
       "13                         0.0                 0.0                        0.0   \n",
       "\n",
       "          K10_cluster duct_edge_mask duct_mid_mask  duct_core_mask  labels_id  \\\n",
       "labels_id                                                                       \n",
       "2                   8              0             0               0          2   \n",
       "4                   2              1             0               0          4   \n",
       "10                  2              0             1               0         10   \n",
       "11                  2              0             1               0         11   \n",
       "13                  8              1             0               0         13   \n",
       "\n",
       "           batch  \n",
       "labels_id         \n",
       "2              0  \n",
       "4              0  \n",
       "10             0  \n",
       "11             0  \n",
       "13             0  \n",
       "\n",
       "[5 rows x 78 columns]"
      ]
     },
     "execution_count": 13,
     "metadata": {},
     "output_type": "execute_result"
    }
   ],
   "source": [
    "adata.obs.head()"
   ]
  },
  {
   "cell_type": "markdown",
   "id": "1c23e2d7",
   "metadata": {},
   "source": [
    "## Compute Weisfeiler-Lehman Graph Kernels to compare conditions "
   ]
  },
  {
   "cell_type": "code",
   "execution_count": 7,
   "id": "e74285b6",
   "metadata": {},
   "outputs": [],
   "source": [
    "# define library_key and cluster_key for computing spatial graphs using `squidpy.gr.spatial_neighbors`\n",
    "\n",
    "library_key=\"Point_Num\"\n",
    "cluster_key=\"phenotype\""
   ]
  },
  {
   "cell_type": "code",
   "execution_count": 8,
   "id": "7d5937d9",
   "metadata": {
    "scrolled": true
   },
   "outputs": [],
   "source": [
    "# compute WWL kernels\n",
    "### results are stored in adata.uns[\"wl_kernel\"]\n",
    "\n",
    "gc.tl.wlkernel.compare_conditions(\n",
    "   adata=adata,\n",
    "   library_key=library_key,\n",
    "   cluster_key=cluster_key,\n",
    "   compute_spatial_graphs=True,\n",
    "   kwargs_spatial_neighbors={\n",
    "        'coord_type': 'generic',\n",
    "        'delaunay': True,  \n",
    "   }  \n",
    ")"
   ]
  },
  {
   "cell_type": "code",
   "execution_count": 10,
   "id": "266c529a",
   "metadata": {},
   "outputs": [
    {
     "data": {
      "text/plain": [
       "AnnData object with n_obs × n_vars = 57880 × 59\n",
       "    obs: 'event', 'Point_Num', 'CohortNumber', 'Tissue_Type', 'Status', 'Tissue', 'sublineage', 'phenotype', 'compartment', 'celllineage', 'sublineage_code', 'phenotype_code', 'compartment_code', 'celllineage_code', 'manual_gating_cellineage', 'manual_gating_subineage', 'manual_gating_phenotype', 'innerduct_mask', 'distal_mask', 'stroma_mask', 'periph_mask', 'epi_mask', 'duct_mask', 'myoep_mask', 'ERstatus', 'HER2status', 'ARstatus', 'Ki67status', 'pS6status', 'GLUT1status', 'HIF1astatus', 'COX2status', 'CD36status', 'CD44status', 'PD1status', 'PDL1status', 'IDO1status', 'GZMBstatus', 'ECADstatus', 'MMP9status', 'VIMstatus', 'FAPstatus', 'HLADRstatus', 'CD3status', 'SMAstatus', 'COLIstatus', 'CK5status', 'CK7status', 'P63status', 'myoep_dist_label', 'myoep_dist_MinDist', 'myoep_dist_MaxDist', 'myoep_dist_MedDist', 'myoep_dist_MeanDist', 'celltype_code', 'myoep_dist_MinDist1', 'Neighbor_dist_TUMOR', 'Neighbor_dist_MYOEP', 'Neighbor_dist_FIBROBLAST', 'Neighbor_dist_ENDO', 'Neighbor_dist_MONODC', 'Neighbor_dist_MONO', 'Neighbor_dist_MACS', 'Neighbor_dist_DC', 'Neighbor_dist_APC', 'Neighbor_dist_MAST', 'Neighbor_dist_CD8T', 'Neighbor_dist_CD4T', 'Neighbor_dist_BCELL', 'Neighbor_dist_TCELL', 'Neighbor_dist_NEUT', 'Neighbor_dist_IMMUNEOTHER', 'K10_cluster', 'duct_edge_mask', 'duct_mid_mask', 'duct_core_mask', 'labels_id', 'batch'\n",
       "    uns: 'compartment_colors', 'log1p', 'pairwise_similarities', 'phenotype_Point_Num_nhood_enrichment', 'spatial', 'spatial_neighbors', 'wl_kernel'\n",
       "    obsm: 'spatial'\n",
       "    obsp: 'spatial_connectivities', 'spatial_distances'"
      ]
     },
     "execution_count": 10,
     "metadata": {},
     "output_type": "execute_result"
    }
   ],
   "source": [
    "adata"
   ]
  },
  {
   "cell_type": "markdown",
   "id": "bfbd5cd0",
   "metadata": {},
   "source": [
    "## Plot results"
   ]
  },
  {
   "cell_type": "code",
   "execution_count": 11,
   "id": "85204198",
   "metadata": {},
   "outputs": [],
   "source": [
    "# define necessary params\n",
    "condition_key=\"Status\" # key in adata.obs where conditions are stored\n",
    "control_group=\"normal\" # reference group\n",
    "metric_key=\"wasserstein_distance\" \n",
    "method=\"wl_kernel\""
   ]
  },
  {
   "cell_type": "code",
   "execution_count": 12,
   "id": "cfd96174",
   "metadata": {},
   "outputs": [
    {
     "name": "stdout",
     "output_type": "stream",
     "text": [
      "p-value annotation legend:\n",
      "ns: 5.00e-02 < p <= 1.00e+00\n",
      "*: 1.00e-02 < p <= 5.00e-02\n",
      "**: 1.00e-03 < p <= 1.00e-02\n",
      "***: 1.00e-04 < p <= 1.00e-03\n",
      "****: p <= 1.00e-04\n",
      "\n",
      "normal vs case v.s. normal vs ctrl: t-test independent samples, P_val=4.787e-02 stat=1.983e+00\n"
     ]
    },
    {
     "data": {
      "image/png": "[encoded data removed]",
      "text/plain": [
       "<Figure size 300x500 with 1 Axes>"
      ]
     },
     "metadata": {
      "needs_background": "light"
     },
     "output_type": "display_data"
    }
   ],
   "source": [
    "# Note: a smaller Wasserstein distance indicates a higher similarity between the two graphs, \n",
    "# while a larger distance indicates less similarity.\n",
    "\n",
    "gc.pl.wlkernel.compare_conditions(\n",
    "    adata=adata,\n",
    "    library_key=library_key,\n",
    "    condition_key=condition_key,\n",
    "    control_group=control_group,\n",
    "    metric_key=metric_key,\n",
    "    method=method,\n",
    "    figsize=(3,5),\n",
    "    dpi=100,\n",
    "    #save=\"figures/mibitof_wwlkerenl.pdf\"\n",
    ")"
   ]
  }
 ],
 "metadata": {
  "kernelspec": {
   "display_name": "Python 3 (ipykernel)",
   "language": "python",
   "name": "python3"
  },
  "language_info": {
   "codemirror_mode": {
    "name": "ipython",
    "version": 3
   },
   "file_extension": ".py",
   "mimetype": "text/x-python",
   "name": "python",
   "nbconvert_exporter": "python",
   "pygments_lexer": "ipython3",
   "version": "3.10.12"
  }
 },
 "nbformat": 4,
 "nbformat_minor": 5
}
